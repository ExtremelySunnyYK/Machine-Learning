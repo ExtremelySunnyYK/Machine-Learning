{
  "nbformat": 4,
  "nbformat_minor": 0,
  "metadata": {
    "colab": {
      "name": "PolynomialRegression",
      "provenance": [],
      "collapsed_sections": [],
      "authorship_tag": "ABX9TyNDzZ512Qh77YT8hTMNfBY6",
      "include_colab_link": true
    },
    "kernelspec": {
      "name": "python3",
      "display_name": "Python 3"
    },
    "accelerator": "GPU"
  },
  "cells": [
    {
      "cell_type": "markdown",
      "metadata": {
        "id": "view-in-github",
        "colab_type": "text"
      },
      "source": [
        "<a href=\"https://colab.research.google.com/github/ExtremelySunnyYK/Machine-Learning/blob/master/PolynomialRegression.ipynb\" target=\"_parent\"><img src=\"https://colab.research.google.com/assets/colab-badge.svg\" alt=\"Open In Colab\"/></a>"
      ]
    },
    {
      "cell_type": "code",
      "metadata": {
        "id": "05wFpSSnSaRP",
        "colab_type": "code",
        "colab": {}
      },
      "source": [
        "# Importing the libraries\n",
        "import numpy as np\n",
        "import matplotlib.pyplot as plt\n",
        "import pandas as pd\n",
        "\n",
        "dataset = pd.read_csv('Position_Salaries.csv')\n",
        "X = dataset.iloc[:,-2:-1].values\n",
        "y = dataset.iloc[:, -1].values"
      ],
      "execution_count": 0,
      "outputs": []
    },
    {
      "cell_type": "code",
      "metadata": {
        "id": "WMyACOfnVwFn",
        "colab_type": "code",
        "colab": {
          "base_uri": "https://localhost:8080/",
          "height": 53
        },
        "outputId": "26793deb-e954-44e2-ed22-a32333f4191e"
      },
      "source": [
        "# Fitting Linear Regresion to dataset.\n",
        "\n",
        "from sklearn.linear_model import LinearRegression\n",
        "lin_reg = LinearRegression()\n",
        "lin_reg.fit(X,y)\n"
      ],
      "execution_count": 16,
      "outputs": [
        {
          "output_type": "execute_result",
          "data": {
            "text/plain": [
              "LinearRegression(copy_X=True, fit_intercept=True, n_jobs=None, normalize=False)"
            ]
          },
          "metadata": {
            "tags": []
          },
          "execution_count": 16
        }
      ]
    },
    {
      "cell_type": "code",
      "metadata": {
        "id": "T5PBUk5hSkTm",
        "colab_type": "code",
        "colab": {
          "base_uri": "https://localhost:8080/",
          "height": 53
        },
        "outputId": "d7923110-6c74-43a3-abda-a353f82c547e"
      },
      "source": [
        "# Fitting Polynomial Regression to dataset.\n",
        "\n",
        "from sklearn.preprocessing import PolynomialFeatures\n",
        "# Make the power of x + x^2\n",
        "X_poly = PolynomialFeatures(degree = 10).fit_transform(X)\n",
        "lin_reg_2 = LinearRegression()\n",
        "lin_reg_2.fit(X_poly,y)\n"
      ],
      "execution_count": 25,
      "outputs": [
        {
          "output_type": "execute_result",
          "data": {
            "text/plain": [
              "LinearRegression(copy_X=True, fit_intercept=True, n_jobs=None, normalize=False)"
            ]
          },
          "metadata": {
            "tags": []
          },
          "execution_count": 25
        }
      ]
    },
    {
      "cell_type": "code",
      "metadata": {
        "id": "qAThU3gJbIiq",
        "colab_type": "code",
        "colab": {
          "base_uri": "https://localhost:8080/",
          "height": 312
        },
        "outputId": "f225c432-496e-4d5d-cfa2-383f5490557c"
      },
      "source": [
        "# Visualising results for Linear Regression model\n",
        "\n",
        "# Visualising Actual Data\n",
        "plt.scatter(X,y,color = 'red')\n",
        "\n",
        "# Model Fitting\n",
        "plt.plot(X,lin_reg.predict(X),color = 'blue')\n",
        "plt.title('Salary prediction ( Linear Regression)')\n",
        "plt.xlabel('Position Level (Independent Variable)')\n",
        "plt.ylabel('Salary (Dependent Variable)')\n"
      ],
      "execution_count": 18,
      "outputs": [
        {
          "output_type": "execute_result",
          "data": {
            "text/plain": [
              "Text(0, 0.5, 'Salary (Dependent Variable)')"
            ]
          },
          "metadata": {
            "tags": []
          },
          "execution_count": 18
        },
        {
          "output_type": "display_data",
          "data": {
            "image/png": "[encoded data removed]",
            "text/plain": [
              "<Figure size 432x288 with 1 Axes>"
            ]
          },
          "metadata": {
            "tags": []
          }
        }
      ]
    },
    {
      "cell_type": "code",
      "metadata": {
        "id": "IfOFxsuV0YT5",
        "colab_type": "code",
        "colab": {
          "base_uri": "https://localhost:8080/",
          "height": 312
        },
        "outputId": "870b044f-4592-4892-f838-677fd39f3c03"
      },
      "source": [
        "# Visualising results for Non Linear Regression model\n",
        "\n",
        "# Visualising Actual Data\n",
        "plt.scatter(X,y,color = 'red')\n",
        "\n",
        "# Increasing the resolution in dependent variable\n",
        "\n",
        "# Model Fitting\n",
        "plt.plot(X,lin_reg_2.predict(X_poly),color = 'blue')\n",
        "plt.title('Salary prediction ( Polynomial Regression)')\n",
        "plt.xlabel('Position Level (Independent Variable)')\n",
        "plt.ylabel('Salary (Dependent Variable)')"
      ],
      "execution_count": 28,
      "outputs": [
        {
          "output_type": "execute_result",
          "data": {
            "text/plain": [
              "Text(0, 0.5, 'Salary (Dependent Variable)')"
            ]
          },
          "metadata": {
            "tags": []
          },
          "execution_count": 28
        },
        {
          "output_type": "display_data",
          "data": {
            "image/png": "[encoded data removed]",
            "text/plain": [
              "<Figure size 432x288 with 1 Axes>"
            ]
          },
          "metadata": {
            "tags": []
          }
        }
      ]
    },
    {
      "cell_type": "code",
      "metadata": {
        "id": "2JNl9bop4BjN",
        "colab_type": "code",
        "colab": {}
      },
      "source": [
        ""
      ],
      "execution_count": 0,
      "outputs": []
    }
  ]
}